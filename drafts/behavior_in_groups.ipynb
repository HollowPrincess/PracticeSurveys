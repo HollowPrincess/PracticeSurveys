{
 "cells": [
  {
   "cell_type": "code",
   "execution_count": 1,
   "metadata": {
    "colab": {},
    "colab_type": "code",
    "id": "iO0hdkP00ObX"
   },
   "outputs": [],
   "source": [
    "import os"
   ]
  },
  {
   "cell_type": "code",
   "execution_count": 2,
   "metadata": {},
   "outputs": [
    {
     "name": "stdout",
     "output_type": "stream",
     "text": [
      "Active code page: 65001\n"
     ]
    }
   ],
   "source": [
    "!chcp 65001"
   ]
  },
  {
   "cell_type": "code",
   "execution_count": 4,
   "metadata": {
    "colab": {
     "base_uri": "https://localhost:8080/",
     "height": 146
    },
    "colab_type": "code",
    "id": "RjpTiaGqzYBX",
    "outputId": "69a8bec6-dc2b-4d40-b716-07311c77fa8c"
   },
   "outputs": [],
   "source": [
    "if not (os.path.exists(os.getcwd()+'surveys/surveys.csv') \n",
    "        or os.path.exists(os.getcwd()+'//surveys//surveys.csv')):\n",
    "  # Настройка загрузки файла из облака\n",
    "  # требуется толко один раз\n",
    "  \n",
    "  if not (os.path.exists(os.getcwd()+'//surveys')\n",
    "         or os.path.exists(os.getcwd()+'/surveys')):\n",
    "    os.mkdir(surveys)\n",
    "    \n",
    "  os.chdir('surveys')\n",
    "  \n",
    "  try:\n",
    "    from google_drive_downloader import GoogleDriveDownloader as gdd\n",
    "  except ModuleNotFoundError:\n",
    "    # Error handling\n",
    "    !pip install googledrivedownloader\n",
    "    from google_drive_downloader import GoogleDriveDownloader as gdd\n",
    "    #pass\n",
    "  \n",
    "  gdd.download_file_from_google_drive(file_id='***', \n",
    "                                    dest_path='surveys/surveys.csv',\n",
    "                                    unzip=False)\n",
    "else:\n",
    "  os.chdir('surveys')"
   ]
  },
  {
   "cell_type": "code",
   "execution_count": 5,
   "metadata": {
    "colab": {},
    "colab_type": "code",
    "id": "0KTYNTdXiU5t"
   },
   "outputs": [],
   "source": [
    "import pandas as pd\n",
    "\n",
    "df = pd.read_csv('surveys.csv', sep=',', encoding='utf-8', parse_dates=['Отметка времени'], \n",
    "                 dayfirst=True)"
   ]
  },
  {
   "cell_type": "code",
   "execution_count": 6,
   "metadata": {
    "colab": {},
    "colab_type": "code",
    "id": "D9Pm50g9s05T"
   },
   "outputs": [],
   "source": [
    "df=df.rename(index=str, columns={\n",
    "    \"Отметка времени\": \"время\",\n",
    "    \"Название курса\": \"курс\",\n",
    "    \"1. Оцените, пожалуйста, содержание курса по пятибалльной шкале, где «очень нравится» - 5 баллов, «совсем не нравится» - 1 балл [Содержание курса]\": \"оценка содержания курса\",\n",
    "    \"1. Оцените, пожалуйста, содержание курса по пятибалльной шкале, где «очень нравится» - 5 баллов, «совсем не нравится» - 1 балл [Структура курса]\": \"оценка структуры курса\",\n",
    "    \"1. Оцените, пожалуйста, содержание курса по пятибалльной шкале, где «очень нравится» - 5 баллов, «совсем не нравится» - 1 балл [Визуальная составляющая]\": \"оценка визуальной составляющей\",\n",
    "    \"Напишите, пожалуйста, свое мнение о курсе:\": \"мнение о курсе\",\n",
    "    \"Оцените, пожалуйста, преподавателя\\авторский коллектив по следующим критериям: [Подача материала]\": \"оценка подачи материала авторами\",\n",
    "    \"Оцените, пожалуйста, преподавателя\\авторский коллектив по следующим критериям: [Активность в общении со слушателями]\": \"оценка активности авторов\",\n",
    "    \"Оцените, пожалуйста, преподавателя\\авторский коллектив по следующим критериям: [Компетентность]\": \"оценка компетентности авторов\",\n",
    "    \"Напишите, пожалуйста, свое мнение о преподавателе:\": \"мнение о преподавателе\",\n",
    "    \"Оцените, пожалуйста, рост интереса к курсу по мере его прохождения по пятибалльной шкале, где стабильно рос - 5 баллов, стабильно падал - 1 балл [Интерес к курсу]\": \"оценка уровеня интереса к курсу во времени\",\n",
    "    \"Оцените задания и дополнительные материалы к курсу по пятибалльной шкале, где «очень помогли в приобретении нужных компетенций» - 5, «совершенно не помогли» - 1 балл [Задания к курсу]\": \"оценка заданий к курсу\",\n",
    "    \"Оцените задания и дополнительные материалы к курсу по пятибалльной шкале, где «очень помогли в приобретении нужных компетенций» - 5, «совершенно не помогли» - 1 балл [Дополнительные материалы]\": \"оценка дополнительных материалов\",\n",
    "    \"Напишите, пожалуйста, свое мнение о материалах курса:\": \"мнение о материалах\",\n",
    "    \"Довольны ли вы в целом пройденным курсом по 10-балльной шкале, где 10 баллов «очень доволен», 1 балл – «категорически недоволен»\": \"оценка уровня удовлетворенности\",\n",
    "    \"Будете ли рекомендовать курсы СПбГУ другим\": \"согласие рекомендовать\",\n",
    "    \"Ваши предложения по улучшению курса\": \"предложения\",\n",
    "    \"Являетесь ли вы студентом\": \"студент\"    \n",
    "})\n",
    "df=df.rename(str.lower, axis='columns')"
   ]
  },
  {
   "cell_type": "code",
   "execution_count": 7,
   "metadata": {
    "colab": {},
    "colab_type": "code",
    "id": "ToYiK3xnq6Z_"
   },
   "outputs": [],
   "source": [
    "#data preparation"
   ]
  },
  {
   "cell_type": "code",
   "execution_count": 8,
   "metadata": {
    "colab": {},
    "colab_type": "code",
    "id": "itwnNUoq76ba"
   },
   "outputs": [],
   "source": [
    "# оценка* - от 1 до 5, либо от очень плохо до отлично (5 категорий) кроме \"уровня удовлетворенности\": от 1 до 10\n",
    "# мнение* - текст\n",
    "# предложения - текст\n",
    "# согласие рекомендовать - категория (Да/Нет)\n",
    "# пол - категория (М/Ж)\n",
    "# возраст - число\n",
    "# студент - категория (Да/Нет)\n",
    "# текстовые поля могут быть NaN"
   ]
  },
  {
   "cell_type": "code",
   "execution_count": 9,
   "metadata": {
    "colab": {},
    "colab_type": "code",
    "id": "G_AtLlO97Rg2"
   },
   "outputs": [],
   "source": [
    "# поле курс содержит информацию о сессии СПбГУ:\n",
    "# Философия\n",
    "# Философия (спец. сессия СПбГУ)\n",
    "# История России (спец. сессия ЮФУ)\n",
    "# их надо разделить \n"
   ]
  },
  {
   "cell_type": "code",
   "execution_count": 10,
   "metadata": {
    "colab": {},
    "colab_type": "code",
    "id": "CNve0Vg29gSf"
   },
   "outputs": [],
   "source": [
    "#make assesments from categories to numbers\n",
    "df['оценка подачи материала авторами'] = df['оценка подачи материала авторами'].map({'Очень плохо': 1, 'Плохо': 2,'Удовлетворительно': 3, 'Хорошо': 4,'Отлично': 5})\n",
    "df['оценка активности авторов'] = df['оценка активности авторов'].map({'Очень плохо': 1, 'Плохо': 2,'Удовлетворительно': 3, 'Хорошо': 4,'Отлично': 5})\n",
    "df['оценка компетентности авторов'] = df['оценка компетентности авторов'].map({'Очень плохо': 1, 'Плохо': 2,'Удовлетворительно': 3, 'Хорошо': 4,'Отлично': 5})"
   ]
  },
  {
   "cell_type": "code",
   "execution_count": 11,
   "metadata": {
    "colab": {},
    "colab_type": "code",
    "id": "RvJ2E3iLASi0"
   },
   "outputs": [],
   "source": [
    "#make categories yes/no to 1/0\n",
    "df['согласие рекомендовать'] = df['согласие рекомендовать'].map({'Да': 1, 'Нет': 0})\n",
    "df['студент'] = df['студент'].map({'Да': 1, 'Нет': 0})\n",
    "# make sex to isMale:\n",
    "df=df.rename(index=str, columns={\"пол\": \"мужчина?\"})\n",
    "df['мужчина?'] = df['мужчина?'].map({'М': 1, 'Ж': 0})"
   ]
  },
  {
   "cell_type": "code",
   "execution_count": 12,
   "metadata": {
    "colab": {},
    "colab_type": "code",
    "id": "Wtvq5q_HBus-"
   },
   "outputs": [],
   "source": [
    "# a portrait of each course\n",
    "# num of votes\n",
    "# avg asessments\n",
    "# num of male and female votes\n",
    "# how many users want to recommend a course\n",
    "\n",
    "import numpy as np\n",
    "\n",
    "# data representativeness estimate\n",
    "avgErr=0.25 #param\n",
    "\n",
    "def recommendedSampleSize(x):\n",
    "    return round(pow(np.std(x)/avgErr,2))\n",
    "\n",
    "coursePortrait=df.groupby(['курс']).agg({'оценка содержания курса':[np.size]})\n",
    "coursePortrait=coursePortrait.rename(index=str, \n",
    "                                     columns={'size':'количество отзывов на курс'})\n",
    "coursePortrait.columns=coursePortrait.columns.droplevel(level=0)\n",
    "\n",
    "\n",
    "def countAvgAndSizeForAssessment(assessmentName):\n",
    "    newColInPortrait=df.groupby(['курс']).agg({\n",
    "        'оценка '+assessmentName:[np.average , lambda x:recommendedSampleSize(x)]\n",
    "    })\n",
    "    newColInPortrait=newColInPortrait.rename(index=str, \n",
    "                                     columns={'average': 'средняя оценка '+assessmentName,\n",
    "                                              '<lambda>':'рекомендуемый объем выборки для оценки '+assessmentName+' при отклонении '+str(avgErr)\n",
    "                                             })\n",
    "    newColInPortrait.columns=newColInPortrait.columns.droplevel(level=0)\n",
    "    return newColInPortrait\n",
    "\n",
    "\n",
    "\n",
    "\n",
    "for assessmentName in df.columns:\n",
    "    if assessmentName.split(' ')[0]=='оценка':\n",
    "        newName=assessmentName.split(' ')[1:]\n",
    "        newName=' '.join(map(str, newName))\n",
    "        frames = [countAvgAndSizeForAssessment(newName),coursePortrait]\n",
    "        coursePortrait=pd.concat(frames,axis=1)"
   ]
  },
  {
   "cell_type": "code",
   "execution_count": 13,
   "metadata": {},
   "outputs": [
    {
     "data": {
      "text/plain": [
       "\"\\ncoursePortrait=coursePortrait.to_json(orient='records')[1:-1]\\ncoursePortrait=coursePortrait.replace('},{','}\\n{')\\n\""
      ]
     },
     "execution_count": 13,
     "metadata": {},
     "output_type": "execute_result"
    }
   ],
   "source": [
    "\n",
    "coursePortrait=coursePortrait.reset_index()\n",
    "\"\"\"\n",
    "coursePortrait=coursePortrait.to_json(orient='records')[1:-1]\n",
    "coursePortrait=coursePortrait.replace('},{','}\\n{')\n",
    "\"\"\""
   ]
  },
  {
   "cell_type": "code",
   "execution_count": 14,
   "metadata": {
    "colab": {},
    "colab_type": "code",
    "id": "bndZI9mjr8bn"
   },
   "outputs": [
    {
     "data": {
      "text/plain": [
       "\"\\nfileName = 'result.json'\\ndata_file = open(fileName, 'w')\\ndata_file.write(coursePortrait)\\ndata_file.close() \\n\""
      ]
     },
     "execution_count": 14,
     "metadata": {},
     "output_type": "execute_result"
    }
   ],
   "source": [
    "\"\"\"\n",
    "fileName = 'result.json'\n",
    "data_file = open(fileName, 'w')\n",
    "data_file.write(coursePortrait)\n",
    "data_file.close() \n",
    "\"\"\""
   ]
  },
  {
   "cell_type": "code",
   "execution_count": 15,
   "metadata": {},
   "outputs": [
    {
     "data": {
      "text/plain": [
       "'\\n!pip install dash\\n!pip install dash-html-components\\n!pip install dash-core-components\\n!pip install dash-table\\n'"
      ]
     },
     "execution_count": 15,
     "metadata": {},
     "output_type": "execute_result"
    }
   ],
   "source": [
    "\"\"\"\n",
    "!pip install dash\n",
    "!pip install dash-html-components\n",
    "!pip install dash-core-components\n",
    "!pip install dash-table\n",
    "\"\"\""
   ]
  },
  {
   "cell_type": "code",
   "execution_count": 20,
   "metadata": {},
   "outputs": [
    {
     "name": "stdout",
     "output_type": "stream",
     "text": [
      "Running on http://127.0.0.1:8050/\n",
      "Running on http://127.0.0.1:8050/\n",
      "Debugger PIN: 448-275-066\n",
      "Debugger PIN: 448-275-066\n",
      " * Serving Flask app \"__main__\" (lazy loading)\n",
      " * Environment: production\n",
      "   WARNING: Do not use the development server in a production environment.\n",
      "   Use a production WSGI server instead.\n",
      " * Debug mode: on\n"
     ]
    },
    {
     "ename": "SystemExit",
     "evalue": "1",
     "output_type": "error",
     "traceback": [
      "An exception has occurred, use %tb to see the full traceback.\n",
      "\u001b[1;31mSystemExit\u001b[0m\u001b[1;31m:\u001b[0m 1\n"
     ]
    },
    {
     "name": "stderr",
     "output_type": "stream",
     "text": [
      "C:\\Users\\User\\Anaconda3\\lib\\site-packages\\IPython\\core\\interactiveshell.py:2969: UserWarning:\n",
      "\n",
      "To exit: use 'exit', 'quit', or Ctrl-D.\n",
      "\n"
     ]
    }
   ],
   "source": [
    "import dash\n",
    "import dash_core_components as dcc\n",
    "import dash_html_components as html\n",
    " \n",
    "app = dash.Dash()\n",
    " \n",
    "app.layout = html.Div(children=[\n",
    "html.Div(children='LinuxHint Youtube Hi'),\n",
    "dcc.Graph(\n",
    "id='graphss',\n",
    "figure={\n",
    "'data': [\n",
    "{'x':[1,2,3,4,5,6,7], 'y':[11,12,22,23,24,44,55], 'type':'line', 'name':'Energy'},\n",
    "{'x':[1,2,3,4,5,6,7], 'y':[13,15,26,27,34,44,65], 'type':'bar', 'name':'Time'},\n",
    "],\n",
    "'layout': {\n",
    "'title': 'Graph for Time and Energy'\n",
    "}\n",
    "}\n",
    ")\n",
    "])\n",
    " \n",
    "if __name__ == '__main__':\n",
    "    app.run_server(debug=True)"
   ]
  }
 ],
 "metadata": {
  "colab": {
   "collapsed_sections": [],
   "name": "behavior in groups.ipynb",
   "provenance": [],
   "version": "0.3.2"
  },
  "kernelspec": {
   "display_name": "Python 3",
   "language": "python",
   "name": "python3"
  },
  "language_info": {
   "codemirror_mode": {
    "name": "ipython",
    "version": 3
   },
   "file_extension": ".py",
   "mimetype": "text/x-python",
   "name": "python",
   "nbconvert_exporter": "python",
   "pygments_lexer": "ipython3",
   "version": "3.7.0"
  }
 },
 "nbformat": 4,
 "nbformat_minor": 1
}
